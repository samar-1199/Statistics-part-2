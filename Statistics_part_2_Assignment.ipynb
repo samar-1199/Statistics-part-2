{
  "nbformat": 4,
  "nbformat_minor": 0,
  "metadata": {
    "colab": {
      "provenance": []
    },
    "kernelspec": {
      "name": "python3",
      "display_name": "Python 3"
    },
    "language_info": {
      "name": "python"
    }
  },
  "cells": [
    {
      "cell_type": "markdown",
      "source": [
        "**Q1**. What is hypothesis testing in statistics?\n",
        "-  It is a claim or a statement or assumption about population parameter that can be tested using statistical method.\n",
        "-  You made a claim about the population (say the average age is 45 years).\n",
        "- Due to time and constraints you can not go to each person of population to record age.\n",
        "- Take sample,calculate avg age of sample and check if the sample avg age is close to the claim that you have made about the population.\n",
        "\n",
        "**Q2.** What is the null hypothesis, and how does it differ from the alternative hypothesis?\n",
        "\n",
        "- The null hypothesis is a kind of hypothesis which explains the population parameter whose purpose is to test the validity of the given experimental data.  In other words, the null hypothesis is a hypothesis in which the sample observations results from the chance.\n",
        "- Null hypothesis implies a statement that expects no difference or effect. On the contrary, an alternative hypothesis is one that expects some difference or effect.\n",
        "\n",
        "**Q3.**What is the significance level in hypothesis testing, and why is it important?\n",
        "\n",
        "- Significance levels in statistics are a crucial component of hypothesis testing. However, unlike other values in your statistical output, the significance level is not something that statistical software calculates. Instead, you choose the significance level.\n",
        "\n",
        "**Q4.**What does a P-value represent in hypothesis testing?\n",
        "- The p value is a number, calculated from a statistical test, that describes how likely you are to have found a particular set of observations if the null hypothesis were true.\n",
        "\n",
        "P values are used in hypothesis testing to help decide whether to reject the null hypothesis. The smaller the p value, the more likely you are to reject the null hypothesis.\n",
        "\n",
        "**Q5.**How do you interpret the P-value in hypothesis testing?\n",
        "- To interpret the p-value, you need to compare it to a chosen significance level(α) . During hypothesis testing, we assume a significance level (α), generally 5% (α = 0.05). It is the probability of rejecting the null hypothesis when it is true. It is observed that lower the p-value, higher is the probability of rejecting the null hypothesis.\n",
        "\n",
        "**Q6.**What are Type 1 and Type 2 errors in hypothesis testing?\n",
        "\n",
        "- Type 1 error- It is rejection of null hypothesis when it is actually true.\n",
        "  ex- an innocent person is convicted.\n",
        "\n",
        "-  Type 2 error- It is the failure to reject the null hypothesis that is actually false.\n",
        "  ex- a gulity person may not be convicted.\n",
        "\n",
        "**Q7.** What is the difference between a one-tailed and a two-tailed test in hypothesis testing?\n",
        "- One and Two-Tailed Tests are ways to identify the relationship between the statistical variables. For checking the relationship between variables in a single direction (Left or Right direction), we use a one-tailed test. A two-tailed test is used to check whether the relations between variables are in any direction or not.\n",
        "\n",
        "**Q8.**What is the Z-test, and when is it used in hypothesis testing?\n",
        "\n",
        "-  A Z-test is a type of hypothesis test that compares the sample’s average to the population’s average and calculates the Z-score and tells us how much the sample average is different from the population average by looking at how much the data normally varies. It is particularly useful when the sample size is large >30. This Z-Score is also known as Z-Statistics formula.\n",
        "\n",
        "**Q9.** How do you calculate the Z-score, and what does it represent in hypothesis testing?\n",
        "\n",
        "-  Z-Score in statistics is a measurement of how many standard deviations away a data point is from the mean of a distribution. A z-score of 0 indicates that the data point’s score is the same as the mean score. A positive z-score indicates that the data point is above average, while a negative z-score indicates that the data point is below average.\n",
        "\n",
        "**Q10.**What is the T-distribution, and when should it be used instead of the normal distribution?\n",
        "\n",
        "-  The t -distribution is used when data are approximately normally distributed, which means the data follow a bell shape but the population variance is unknown. The variance in a t -distribution is estimated based on the degrees of freedom of the data set (total number of observations minus 1).\n",
        "\n",
        "**Q11.**What is the difference between a Z-test and a T-test?\n",
        "\n",
        "-   Z-test: Z-test is a statistical test used to determine whether there is a significant difference between sample and population means or between the means of two samples.It is typically used when the sample size is large (generally n > 30) and the population standard deviation is known. The Z-test is based on the standard normal distribution (Z-distribution).\n",
        "\n",
        "- T-test:T-test is a statistical test used to determine whether there is a significant difference between the means of two groups.It is particularly useful when the sample size is small (typically n < 30) and the population standard deviation is unknown. The T-test relies on the t-distribution, which is similar to the normal distribution but has heavier tails.\n",
        "\n",
        "**Q12.**What is the T-test, and how is it used in hypothesis testing?\n",
        "-  T-Test is a method used in statistics to determine if there is a significant difference between the means of two groups and how they are related. In T-Test statistics, the sample data is a subset of the two groups that we use to draw conclusions about the groups as a whole.\n",
        "\n",
        "**Q13.** What is the relationship between Z-test and T-test in hypothesis testing?\n",
        "\n",
        "-  The Z-test and T-test are both valuable tools for comparing population means, with the Z-test suited for large samples with known standard deviations, and the T-test for smaller samples with unknown deviations. Their applications vary based on sample size and data characteristics.\n",
        "\n",
        "**Q14.**What is a confidence interval, and how is it used to interpret statistical results?\n",
        "\n",
        "-  Confidence Interval (CI) is a range of values that estimates where the true population value is likely to fall. Instead of just saying The average height of students is 165 cm a confidence interval allow us to say We are 95% confident that the true average height is between 160 cm and 170 cm.\n",
        "\n",
        "**Q15**.What is the margin of error, and how does it affect the confidence interval?\n",
        "\n",
        "-  A margin of error tells you how many percentage points our results differ from the real value. The margin of error is defined as the range of values below and above the sample statistic in a confidence interval.\n",
        "\n",
        "\n",
        "**Q16.**How is Bayes' Theorem used in statistics, and what is its significance?\n",
        "\n",
        "- Bayes’ Theorem is a mathematical formula that helps determine the conditional probability of an event based on prior knowledge and new evidence.\n",
        "\n",
        "It adjusts probabilities when new information comes in and helps make better decisions in uncertain situations.The general statement of Bayes’ theorem is “The conditional probability of an event A, given the occurrence of another event B, is equal to the product of the event of B, given A and the probability of A divided by the probability of event B.”\n",
        "\n",
        "**Q17.**What is the Chi-square distribution, and when is it used?\n",
        "\n",
        "-  Chi-square distribution is a probablity distribution that descibe the distribution of sum of square of k random variable if you square the number of any sample it will closely follow the chi-square distribution.The chi-squared distribution is used primarily in hypothesis testing, and to a lesser extent for confidence intervals for population variance when the underlying distribution is normal.\n",
        "\n",
        "**Q18.**What is the Chi-square goodness of fit test, and how is it applied?\n",
        "\n",
        "- A chi-square (Χ 2) goodness of fit test is a goodness of fit test for a categorical variable. Goodness of fit is a measure of how well a statistical model fits a set of observations. When goodness of fit is high, the values expected based on the model are close to the observed values.\n",
        "\n",
        "**Q19.**What is the F-distribution, and when is it used in hypothesis testing?\n",
        "\n",
        "-  The F-distribution is a continuous statistical distribution used to test whether two samples have the same variance. The F-Distribution has two parameters the numerator degrees of freedom (df1) and the denominator degrees of freedom (df2).F test is a statistical test that is used in hypothesis testing that determines whether the variances of two samples are equal or not.\n",
        "\n",
        "**Q20.** What is an ANOVA test, and what are its assumptions?\n",
        "\n",
        "- Annova is a statistical method used to compare the mean of 2 or more groups.\n",
        "\n",
        "-  The population from which samples are drown should be normally distributed.\n",
        "-  The sample should be independent of each other random.\n",
        "- Absence of outliers.\n",
        "- Homogenity of variance:Homogenity means that the variance among the groups should be approximately equal.\n",
        "\n",
        "**Q21.**What are the different types of ANOVA tests?\n",
        "\n",
        "-  1.ONE WAY ANOVA:-One factor with atleast two levels,and levels are independent.\n",
        "- 2.REPEATED MEASURE ANOVA:-One factor with atleast two levels but level are dependent.\n",
        "- 3.FACTORIAL ANOVA:-Two or more factors each of which with atleast two levels.Levels can be either dependent,independent or both.\n",
        "\n",
        "**Q22.**What is the F-test, and how does it relate to hypothesis testing?\n",
        "\n",
        "-  F test is a statistical test that is used in hypothesis testing that determines whether the variances of two samples are equal or not. The article will provide detailed information on f test, f statistic, its calculation, critical value and how to use it to test hypotheses. To understand F test firstly we need to have some basic understanding of F-distribution."
      ],
      "metadata": {
        "id": "Ypw15gt6WBsp"
      }
    },
    {
      "cell_type": "markdown",
      "source": [
        "# PRACTICAL QUESTIONS"
      ],
      "metadata": {
        "id": "odvANXa8tOk1"
      }
    },
    {
      "cell_type": "markdown",
      "source": [
        "Q1.Write a Python program to perform a Z-test for comparing a sample mean to a known population mean and\n",
        "interpret the results?\n"
      ],
      "metadata": {
        "id": "H8Vb8mJ4tVNB"
      }
    },
    {
      "cell_type": "code",
      "source": [
        "#ztest\n",
        "\n",
        "population = np.random.randn(100)\n",
        "population"
      ],
      "metadata": {
        "id": "orW6pf8CihLi"
      },
      "execution_count": null,
      "outputs": []
    },
    {
      "cell_type": "markdown",
      "source": [
        "**Q2.**Simulate random data to perform hypothesis testing and calculate the corresponding P-value using Python?\n"
      ],
      "metadata": {
        "id": "UDHyOcJH9Iut"
      }
    },
    {
      "cell_type": "code",
      "source": [
        "p_value = 0.19\n",
        "if p_value <= 0.05:\n",
        "    print(\"reject the null hypothesis\")\n",
        "else:\n",
        "    print(\"fail to reject null hypothesis\")\n"
      ],
      "metadata": {
        "id": "sgpuegUl9O2M"
      },
      "execution_count": null,
      "outputs": []
    },
    {
      "cell_type": "markdown",
      "source": [
        "**Q3.**Perform a two-tailed Z-test using Python and visualize the decision region on a plot."
      ],
      "metadata": {
        "id": "SOak861k9PKM"
      }
    },
    {
      "cell_type": "code",
      "source": [
        "import scipy.stats as stats #zcritical approach\n",
        "\n",
        "sample_mean = 100\n",
        "population_mean = 90\n",
        "population_std = 16\n",
        "sample_size = 60\n",
        "alpha = 0.05"
      ],
      "metadata": {
        "id": "rxAsp7QUWDEp"
      },
      "execution_count": null,
      "outputs": []
    },
    {
      "cell_type": "code",
      "source": [
        "zscore = (sample_mean - population_mean) / (population_std/np.sqrt(50))\n",
        "print(\"The zscore is\", zscore)"
      ],
      "metadata": {
        "id": "wyXzUlVi9Xrh"
      },
      "execution_count": null,
      "outputs": []
    },
    {
      "cell_type": "markdown",
      "source": [
        "**Q4.**Create a Python function that calculates and visualizes Type 1 and Type 2 errors during hypothesis testing"
      ],
      "metadata": {
        "id": "wQ48KcnH9YMs"
      }
    },
    {
      "cell_type": "code",
      "source": [
        "#for hypothesis testing\n",
        "#frame the hypothesis\n",
        "#alpha, type of test\n",
        "#test statistics or pvalue approach >> if pvalue <0.05>> we reject the null hypothesis\n",
        "#test critical\n",
        "#conclusion"
      ],
      "metadata": {
        "id": "43cAtgXe9e5M"
      },
      "execution_count": null,
      "outputs": []
    },
    {
      "cell_type": "markdown",
      "source": [
        "**Q5.**Write a Python program to perform an independent T-test and interpret the results"
      ],
      "metadata": {
        "id": "NDy1xYjM9fgT"
      }
    },
    {
      "cell_type": "code",
      "source": [
        "#one sample t-test\n",
        "population = np.random.randint(10, 50, 50)"
      ],
      "metadata": {
        "id": "KOJw4GUs9jtG"
      },
      "execution_count": null,
      "outputs": []
    },
    {
      "cell_type": "markdown",
      "source": [
        "**Q6.**Perform a paired sample T-test using Python and visualize the comparison results"
      ],
      "metadata": {
        "id": "h7t7NrJr9kBN"
      }
    },
    {
      "cell_type": "code",
      "source": [
        "#paired_t test test\n",
        "rohit_score_first_inning = [31, 36, 46, 24, 48, 46, 47, 47, 16, 35, 45, 37, 24, 29, 27, 42, 49, 37, 47, 46]\n",
        "rohit_score_second_inning = [31, 76, 46, 24, 48, 23, 49, 47, 37, 35, 45, 37, 74, 39, 27, 42, 49, 37, 47, 46]"
      ],
      "metadata": {
        "id": "GqHoHXEm9oOm"
      },
      "execution_count": null,
      "outputs": []
    },
    {
      "cell_type": "code",
      "source": [
        "np.mean(rohit_score_first_inning), np.mean(rohit_score_second_inning)"
      ],
      "metadata": {
        "id": "ixLWy4ZbhK2L"
      },
      "execution_count": null,
      "outputs": []
    },
    {
      "cell_type": "markdown",
      "source": [
        "**Q7.** Simulate data and perform both Z-test and T-test, then compare the results using Python"
      ],
      "metadata": {
        "id": "Wzxjau3x9ohc"
      }
    },
    {
      "cell_type": "code",
      "source": [
        "import numpy as np\n",
        "from scipy import stats\n",
        "\n",
        "# Simulate two datasets\n",
        "np.random.seed(0)\n",
        "group1 = np.random.normal(50, 10, 40)  # Mean 50, std 10, size 40\n",
        "group2 = np.random.normal(55, 10, 40)  # Mean 55, std 10, size 40\n",
        "\n",
        "# Known population standard deviation (for Z-test)\n",
        "population_std = 10\n",
        "\n",
        "# Z-test\n",
        "z_statistic, p_value_z = stats.ztest(group1, group2, value=0, alternative='two-sided')\n",
        "print(\"Z-test results:\")\n",
        "print(f\"Z-statistic: {z_statistic:.2f}\")\n",
        "print(f\"P-value: {p_value_z:.3f}\")\n",
        "\n",
        "# T-test\n",
        "t_statistic, p_value_t = stats.ttest_ind(group1, group2)\n",
        "print(\"\\nT-test results:\")\n",
        "print(f\"T-statistic: {t_statistic:.2f}\")\n",
        "print(f\"P-value: {p_value_t:.3f}\")"
      ],
      "metadata": {
        "id": "WWhmrxRr9uHF"
      },
      "execution_count": null,
      "outputs": []
    },
    {
      "cell_type": "markdown",
      "source": [
        "**Q8.**Write a Python function to calculate the confidence interval for a sample mean and explain its significance"
      ],
      "metadata": {
        "id": "xmXf9Q2u9uYs"
      }
    },
    {
      "cell_type": "code",
      "source": [
        "sample = np.random.choice(population, 20)"
      ],
      "metadata": {
        "id": "V-7XHWn49yWi"
      },
      "execution_count": null,
      "outputs": []
    },
    {
      "cell_type": "code",
      "source": [
        "np.mean(sample)"
      ],
      "metadata": {
        "id": "FxaTeweJjlPs"
      },
      "execution_count": null,
      "outputs": []
    },
    {
      "cell_type": "markdown",
      "source": [
        "**Q9.**Write a Python program to calculate the margin of error for a given confidence level using sample data"
      ],
      "metadata": {
        "id": "srh2GBB49ym1"
      }
    },
    {
      "cell_type": "code",
      "source": [
        "import numpy as np\n",
        "import scipy.stats as st\n",
        "\n",
        "# define sample data\n",
        "gfg_data = [1, 1, 1, 2, 2, 2, 3, 3, 3, 3,\n",
        "\t\t\t3, 4, 4, 5, 5, 5, 6, 7, 8, 10]\n",
        "\n",
        "# create 90% confidence interval\n",
        "st.t.interval(alpha=0.90, df=len(gfg_data)-1,\n",
        "\t\t\tloc=np.mean(gfg_data),\n",
        "\t\t\tscale=st.sem(gfg_data))\n"
      ],
      "metadata": {
        "id": "5xMtwBNU93Y9"
      },
      "execution_count": null,
      "outputs": []
    },
    {
      "cell_type": "markdown",
      "source": [
        "**Q10.**Implement a Bayesian inference method using Bayes' Theorem in Python and explain the process"
      ],
      "metadata": {
        "id": "wa0DNHXv93pz"
      }
    },
    {
      "cell_type": "code",
      "source": [],
      "metadata": {
        "id": "YNw09j9a988d"
      },
      "execution_count": null,
      "outputs": []
    },
    {
      "cell_type": "markdown",
      "source": [
        "**Q11.**Perform a Chi-square test for independence between two categorical variables in Python"
      ],
      "metadata": {
        "id": "p9MpizEF99Nd"
      }
    },
    {
      "cell_type": "code",
      "source": [
        "chisquare_test = sum([(0-e)**2/e for o, e in zip(observed_values, expected_values)])"
      ],
      "metadata": {
        "id": "MlilHrdS-EtO"
      },
      "execution_count": null,
      "outputs": []
    },
    {
      "cell_type": "markdown",
      "source": [
        "**Q12.** Write a Python program to calculate the expected frequencies for a Chi-square test based on observed\n",
        "data"
      ],
      "metadata": {
        "id": "fKI6gz1l-FAT"
      }
    },
    {
      "cell_type": "code",
      "source": [
        "from scipy.stats import chi2_contingency\n",
        "\n",
        "# defining the table\n",
        "data = [[207, 282, 241], [234, 242, 232]]\n",
        "stat, p, dof, expected = chi2_contingency(data)\n",
        "\n",
        "# interpret p-value\n",
        "alpha = 0.05\n",
        "print(\"p value is \" + str(p))\n",
        "if p <= alpha:\n",
        "    print('Dependent (reject H0)')\n",
        "else:\n",
        "    print('Independent (H0 holds true)')\n"
      ],
      "metadata": {
        "id": "4bcjiKKQ-NPU"
      },
      "execution_count": null,
      "outputs": []
    },
    {
      "cell_type": "markdown",
      "source": [
        "**Q13.** Perform a goodness-of-fit test using Python to compare the observed data to an expected distribution"
      ],
      "metadata": {
        "id": "fCiodDU7-Ngb"
      }
    },
    {
      "cell_type": "code",
      "source": [
        "# importing packages\n",
        "import scipy.stats as stats\n",
        "import numpy as np\n",
        "\n",
        "# no of hours a student studies\n",
        "# in a week vs expected no of hours\n",
        "observed_data = [8, 6, 10, 7, 8, 11, 9]\n",
        "expected_data = [9, 8, 11, 8, 10, 7, 6]\n",
        "\n",
        "\n",
        "# determining chi square goodness of fit using formula\n",
        "chi_square_test_statistic1 = 0\n",
        "for i in range(len(observed_data)):\n",
        "    chi_square_test_statistic1 = chi_square_test_statistic1 + \\\n",
        "        (np.square(observed_data[i]-expected_data[i]))/expected_data[i]\n",
        "\n",
        "\n",
        "print('chi square value determined by formula : ' +\n",
        "      str(chi_square_test_statistic1))\n",
        "\n",
        "# find Chi-Square critical value\n",
        "print(stats.chi2.ppf(1-0.05, df=6))\n"
      ],
      "metadata": {
        "id": "eoAh9rPz-R55"
      },
      "execution_count": null,
      "outputs": []
    },
    {
      "cell_type": "markdown",
      "source": [
        "**Q14.**Create a Python script to simulate and visualize the Chi-square distribution and discuss its characteristics"
      ],
      "metadata": {
        "id": "MMXhj6y_-SKz"
      }
    },
    {
      "cell_type": "code",
      "source": [
        "from scipy.stats import chi2_contingency\n",
        "\n",
        "# defining the table\n",
        "data = [[207, 282, 241], [234, 242, 232]]\n",
        "stat, p, dof, expected = chi2_contingency(data)\n",
        "\n",
        "# interpret p-value\n",
        "alpha = 0.05\n",
        "print(\"p value is \" + str(p))\n",
        "if p <= alpha:\n",
        "    print('Dependent (reject H0)')\n",
        "else:\n",
        "    print('Independent (H0 holds true)')\n"
      ],
      "metadata": {
        "id": "R5VYh8iu-aYk"
      },
      "execution_count": null,
      "outputs": []
    },
    {
      "cell_type": "markdown",
      "source": [
        "**Q15.** Implement an F-test using Python to compare the variances of two random samples"
      ],
      "metadata": {
        "id": "HNrq6Wc4-aqE"
      }
    },
    {
      "cell_type": "code",
      "source": [
        "#F distribution\n",
        "f = np.random.f(dfnum = 100, dfden = 100, size = 10000)\n",
        "f = f[np.where((abs(f)) < 10)]\n",
        "plt.hist(f, bins = 10000)\n",
        "plt.show()"
      ],
      "metadata": {
        "id": "E66WPKL8-gB_"
      },
      "execution_count": null,
      "outputs": []
    },
    {
      "cell_type": "markdown",
      "source": [
        "**Q16.** Write a Python program to perform an ANOVA test to compare means between multiple groups and interpret the results\n"
      ],
      "metadata": {
        "id": "I2DOz0ZG-gWk"
      }
    },
    {
      "cell_type": "code",
      "source": [
        "import numpy as np\n",
        "import scipy.stats as stats\n",
        "import matplotlib.pyplot as plt\n",
        "import seaborn as sns\n",
        "\n",
        "def perform_anova(*groups):\n",
        "    \"\"\"\n",
        "    Perform a one-way ANOVA test and interpret the results.\n",
        "\n",
        "    Parameters:\n",
        "    - *groups: List of data arrays representing different groups.\n",
        "\n",
        "    Returns:\n",
        "    - F-statistic, p-value, and interpretation of results.\n",
        "    \"\"\"\n",
        "    # Perform one-way ANOVA test\n",
        "    f_stat, p_value = stats.f_oneway(*groups)\n",
        "\n",
        "    # Print the test results\n",
        "    print(f\"F-statistic: {f_stat:.2f}\")\n",
        "    print(f\"P-value: {p_value:.5f}\")\n",
        "\n",
        "    # Interpretation based on p-value\n",
        "    if p_value < 0.05:\n",
        "        interpretation = \"Reject the null hypothesis: There is a significant difference between the groups.\"\n",
        "    else:\n",
        "        interpretation = \"Fail to reject the null hypothesis: No significant difference between the groups.\"\n",
        "\n",
        "    # Plot boxplots for each group\n",
        "    plt.figure(figsize=(8, 6))\n",
        "    sns.boxplot(data=groups)\n",
        "    plt.title(\"One-Way ANOVA: Comparison of Group Means\")\n",
        "    plt.xlabel(\"Group\")\n",
        "    plt.ylabel(\"Values\")\n",
        "    plt.xticks(ticks=range(len(groups)), labels=[f\"Group {i+1}\" for i in range(len(groups))])\n",
        "    plt.show()\n",
        "\n",
        "    return f_stat, p_value, interpretation\n",
        "\n",
        "# Example usage:\n",
        "# Create sample data for 3 groups\n",
        "np.random.seed(42)  # For reproducibility\n",
        "group1 = np.random.normal(50, 10, 30)  # Mean = 50, Std = 10, 30 samples\n",
        "group2 = np.random.normal(55, 10, 30)  # Mean = 55, Std = 10, 30 samples\n",
        "group3 = np.random.normal(60, 10, 30)  # Mean = 60, Std = 10, 30 samples\n",
        "\n",
        "# Perform ANOVA and interpret the results\n",
        "f_stat, p_value, interpretation = perform_anova(group1, group2, group3)\n",
        "\n",
        "# Print interpretation of results\n",
        "print(\"\\nInterpretation:\")\n",
        "print(interpretation)\n"
      ],
      "metadata": {
        "id": "BonJ-T0l-oej"
      },
      "execution_count": null,
      "outputs": []
    },
    {
      "cell_type": "markdown",
      "source": [
        "**Q17.**Perform a one-way ANOVA test using Python to compare the means of different groups and plot the results"
      ],
      "metadata": {
        "id": "Mjry4UPj-ovt"
      }
    },
    {
      "cell_type": "code",
      "source": [
        "import numpy as np\n",
        "import scipy.stats as stats\n",
        "import matplotlib.pyplot as plt\n",
        "import seaborn as sns\n",
        "\n",
        "def one_way_anova(*groups):\n",
        "    \"\"\"\n",
        "    Perform a one-way ANOVA test and visualize the results.\n",
        "\n",
        "    Parameters:\n",
        "    - *groups: List of data arrays representing different groups.\n",
        "\n",
        "    Returns:\n",
        "    - F-statistic, p-value, and boxplot of the groups.\n",
        "    \"\"\"\n",
        "    # Perform one-way ANOVA test\n",
        "    f_stat, p_value = stats.f_oneway(*groups)\n",
        "\n",
        "    # Print the test results\n",
        "    print(f\"F-statistic: {f_stat:.2f}\")\n",
        "    print(f\"P-value: {p_value:.5f}\")\n",
        "\n",
        "    # Plot boxplots for each group\n",
        "    plt.figure(figsize=(8, 6))\n",
        "    sns.boxplot(data=groups)\n",
        "    plt.title(\"One-Way ANOVA: Comparison of Group Means\")\n",
        "    plt.xlabel(\"Group\")\n",
        "    plt.ylabel(\"Values\")\n",
        "    plt.xticks(ticks=range(len(groups)), labels=[f\"Group {i+1}\" for i in range(len(groups))])\n",
        "\n",
        "    # Show plot\n",
        "    plt.show()\n",
        "\n",
        "    # Decision based on p-value\n",
        "    if p_value < 0.05:\n",
        "        print(\"Reject the null hypothesis: There is a significant difference between the groups.\")\n",
        "    else:\n",
        "        print(\"Fail to reject the null hypothesis: No significant difference between the groups.\")\n",
        "\n",
        "    return f_stat, p_value\n",
        "\n",
        "# Example usage:\n",
        "# Create sample data for 3 groups\n",
        "np.random.seed(42)  # For reproducibility\n",
        "group1 = np.random.normal(50, 10, 30)  # Mean = 50, Std = 10, 30 samples\n",
        "group2 = np.random.normal(55, 10, 30)  # Mean = 55, Std = 10, 30 samples\n",
        "group3 = np.random.normal(60, 10, 30)  # Mean = 60, Std = 10, 30 samples\n",
        "\n",
        "# Perform ANOVA and visualize the results\n",
        "f_stat, p_value = one_way_anova(group1, group2, group3)\n"
      ],
      "metadata": {
        "id": "O5BC-d_A-wT0"
      },
      "execution_count": null,
      "outputs": []
    },
    {
      "cell_type": "markdown",
      "source": [
        "**Q18.**Write a Python function to check the assumptions (normality, independence, and equal variance) for ANOVA"
      ],
      "metadata": {
        "id": "PDcv4bP7-wkz"
      }
    },
    {
      "cell_type": "code",
      "source": [
        "import numpy as np\n",
        "import scipy.stats as stats\n",
        "import matplotlib.pyplot as plt\n",
        "import seaborn as sns\n",
        "\n",
        "def check_anova_assumptions(groups):\n",
        "    \"\"\"\n",
        "    This function checks the assumptions for ANOVA: normality, independence, and equal variances.\n",
        "\n",
        "    Parameters:\n",
        "    - groups (list of arrays): A list where each element is a numpy array or list of values representing one group.\n",
        "\n",
        "    Returns:\n",
        "    - dict: A dictionary containing the results for each assumption.\n",
        "    \"\"\"\n",
        "    results = {}\n",
        "\n",
        "    # Check normality for each group using Shapiro-Wilk test\n",
        "    normality_results = {}\n",
        "    for i, group in enumerate(groups):\n",
        "        stat, p_value = stats.shapiro(group)\n",
        "        normality_results[f'Group {i+1} Normality Test'] = (stat, p_value)\n",
        "\n",
        "    # Check equal variance using Levene's test\n",
        "    all_data = np.concatenate(groups)\n",
        "    group_labels = np.array([i+1 for i in range(len(groups))] * [len(group) for group in groups])\n",
        "    stat_levene, p_value_levene = stats.levene(*groups)\n",
        "\n",
        "    # Store the assumption results\n",
        "    results['Normality Tests'] = normality_results\n",
        "    results['Equal Variance Test (Levene)'] = (stat_levene, p_value_levene)\n",
        "\n",
        "    # Plot Q-Q plot for normality check for each group\n",
        "    plt.figure(figsize=(12, 8))\n",
        "    for i, group in enumerate(groups):\n",
        "        plt.subplot(2, len(groups), i+1)\n",
        "        stats.probplot(group, dist=\"norm\", plot=plt)\n",
        "        plt.title(f'Q-Q Plot Group {i+1}')\n",
        "\n",
        "    # Display the results of normality tests\n",
        "    print(\"Normality Test Results (Shapiro-Wilk):\")\n",
        "    for group, (stat, p_val) in normality_results.items():\n",
        "        print(f\"{group}: Statistic = {stat:.3f}, p-value = {p_val:.3f}\")\n",
        "        if p_val < 0.05:\n",
        "            print(f\"  -> The group does not follow normality (reject null hypothesis).\")\n",
        "        else:\n",
        "            print(f\"  -> The group follows normality (fail to reject null hypothesis).\")\n",
        "\n",
        "    # Display Levene's Test for equal variance\n",
        "    print(\"\\nLevene's Test for Equal Variance:\")\n",
        "    print(f\"Statistic = {stat_levene:.3f}, p-value = {p_value_levene:.3f}\")\n",
        "    if p_value_levene < 0.05:\n",
        "        print(\"  -> Variances are significantly different (reject null hypothesis of equal variances).\")\n",
        "    else:\n",
        "        print(\"  -> Variances are not significantly different (fail to reject null hypothesis of equal variances).\")\n",
        "\n",
        "    # Show the Q-Q plots\n",
        "    plt.tight_layout()\n",
        "    plt.show()\n",
        "\n",
        "    return results\n",
        "\n",
        "# Example usage with some sample data\n",
        "group1 = np.random.normal(loc=0, scale=1, size=50)  # Sample data for group 1\n",
        "group2 = np.random.normal(loc=0, scale=1, size=50)  # Sample data for group 2\n",
        "group3 = np.random.normal(loc=0, scale=1, size=50)  # Sample data for group 3\n",
        "\n",
        "groups = [group1, group2, group3]\n",
        "\n",
        "assumption_results = check_anova_assumptions(groups)\n"
      ],
      "metadata": {
        "id": "xMNb4J6k-2H7"
      },
      "execution_count": null,
      "outputs": []
    },
    {
      "cell_type": "markdown",
      "source": [
        "**Q19.**Perform a two-way ANOVA test using Python to study the interaction between two factors and visualize the\n",
        "results"
      ],
      "metadata": {
        "id": "VeyvnE54-2bb"
      }
    },
    {
      "cell_type": "code",
      "source": [
        "df = pd.read_csv('plant.csv')"
      ],
      "metadata": {
        "id": "AFWBX5RK_Zdo"
      },
      "execution_count": null,
      "outputs": []
    },
    {
      "cell_type": "code",
      "source": [
        "df"
      ],
      "metadata": {
        "id": "qOCI_KbOdUtX"
      },
      "execution_count": null,
      "outputs": []
    },
    {
      "cell_type": "markdown",
      "source": [
        "**20.** Write a Python program to visualize the F-distribution and discuss its use in hypothesis testing"
      ],
      "metadata": {
        "id": "Myoobqm8_Zzd"
      }
    },
    {
      "cell_type": "code",
      "source": [
        "#F distribution\n",
        "f = np.random.f(dfnum = 100, dfden = 100, size = 10000)\n",
        "f = f[np.where((abs(f)) < 10)]\n",
        "plt.hist(f, bins = 10000)\n",
        "plt.show()"
      ],
      "metadata": {
        "id": "wbXYnB7E_e3U"
      },
      "execution_count": null,
      "outputs": []
    },
    {
      "cell_type": "markdown",
      "source": [
        "**21.** Perform a one-way ANOVA test in Python and visualize the results with boxplots to compare group means"
      ],
      "metadata": {
        "id": "JNmGgQMC_fk0"
      }
    },
    {
      "cell_type": "code",
      "source": [
        "# Perform one-way ANOVA\n",
        "f_statistic, p_value = stats.f_oneway(group1, group2, group3)\n",
        "\n",
        "# Display the results\n",
        "print(f'F-statistic: {f_statistic}')\n",
        "print(f'P-value: {p_value}')\n",
        "\n",
        "# Define significance level\n",
        "alpha = 0.05\n",
        "\n",
        "if p_value < alpha:\n",
        "    print(\"Reject the null hypothesis: significant difference between group means.\")\n",
        "else:\n",
        "    print(\"Fail to reject the null hypothesis: no significant difference between group means.\")"
      ],
      "metadata": {
        "id": "EysB1P-0AGuz"
      },
      "execution_count": null,
      "outputs": []
    },
    {
      "cell_type": "markdown",
      "source": [
        "**Q22.** Simulate random data from a normal distribution, then perform hypothesis testing to evaluate the means"
      ],
      "metadata": {
        "id": "XHSWmcABAHBr"
      }
    },
    {
      "cell_type": "code",
      "source": [
        "from scipy import stats\n",
        "\n",
        "# Perform a two-sample t-test\n",
        "t_stat, p_value = stats.ttest_ind(group1, group2)\n",
        "\n",
        "# Displaying the results\n",
        "print(f'T-statistic: {t_stat}')\n",
        "print(f'P-value: {p_value}')\n",
        "\n",
        "# Define significance level\n",
        "alpha = 0.05\n",
        "\n",
        "if p_value < alpha:\n",
        "    print(\"Reject the null hypothesis: significant difference between means.\")\n",
        "else:\n",
        "    print(\"Fail to reject the null hypothesis: no significant difference between means.\")"
      ],
      "metadata": {
        "id": "M_BaUiu2AMen"
      },
      "execution_count": null,
      "outputs": []
    },
    {
      "cell_type": "markdown",
      "source": [
        "**Q23.** Perform a hypothesis test for population variance using a Chi-square distribution and interpret the results"
      ],
      "metadata": {
        "id": "D83n96r2AMvT"
      }
    },
    {
      "cell_type": "code",
      "source": [
        "#chisquare test\n",
        "data = sns.load_dataset(\"tips\")"
      ],
      "metadata": {
        "id": "MUcoGJrkAVrE"
      },
      "execution_count": null,
      "outputs": []
    },
    {
      "cell_type": "markdown",
      "source": [
        "**Q24.**Write a Python script to perform a Z-test for comparing proportions between two datasets or groups"
      ],
      "metadata": {
        "id": "fV-bMShWAV9D"
      }
    },
    {
      "cell_type": "code",
      "source": [
        "#ztest\n",
        "\n",
        "population = np.random.randn(100)\n",
        "population"
      ],
      "metadata": {
        "id": "rYJBn4fsAbP8"
      },
      "execution_count": null,
      "outputs": []
    },
    {
      "cell_type": "markdown",
      "source": [
        "**Q25.**Implement an F-test for comparing the variances of two datasets, then interpret and visualize the results"
      ],
      "metadata": {
        "id": "BAguzPP3Abhj"
      }
    },
    {
      "cell_type": "code",
      "source": [
        "#F test\n",
        "#two workers >> if one worker is more effective than other one\n",
        "\n",
        "\n",
        "\n",
        "\n",
        "worker1 = [18, 17, 20, 25, 27, 55, 51, 42, 46, 29]\n",
        "worker2 = [18, 16, 22, 26, 39, 51, 48, 44, 58, 12]"
      ],
      "metadata": {
        "id": "SzhkWbdFAgK_"
      },
      "execution_count": null,
      "outputs": []
    },
    {
      "cell_type": "code",
      "source": [
        "fstats = np.var(worker1) / np.var(worker2)\n",
        "fstats"
      ],
      "metadata": {
        "id": "kZIfgzAcDkEj"
      },
      "execution_count": null,
      "outputs": []
    },
    {
      "cell_type": "markdown",
      "source": [
        "**Q26.** Perform a Chi-square test for goodness of fit with simulated data and analyze the results"
      ],
      "metadata": {
        "id": "J0Hp972vAgi8"
      }
    },
    {
      "cell_type": "code",
      "source": [
        "# importing packages\n",
        "import scipy.stats as stats\n",
        "import numpy as np\n",
        "\n",
        "# no of hours a student studies\n",
        "# in a week vs expected no of hours\n",
        "observed_data = [8, 6, 10, 7, 8, 11, 9]\n",
        "expected_data = [9, 8, 11, 8, 10, 7, 6]\n",
        "\n",
        "\n",
        "# Chi-Square Goodness of Fit Test\n",
        "chi_square_test_statistic, p_value = stats.chisquare(\n",
        "    observed_data, expected_data)\n",
        "\n",
        "# chi square test statistic and p value\n",
        "print('chi_square_test_statistic is : ' +\n",
        "      str(chi_square_test_statistic))\n",
        "print('p_value : ' + str(p_value))\n",
        "\n",
        "\n",
        "# find Chi-Square critical value\n",
        "print(stats.chi2.ppf(1-0.05, df=6))"
      ],
      "metadata": {
        "id": "59XJ-0U-Fb0B"
      },
      "execution_count": null,
      "outputs": []
    }
  ]
}